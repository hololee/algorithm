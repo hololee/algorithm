{
 "cells": [
  {
   "cell_type": "markdown",
   "metadata": {
    "collapsed": true,
    "pycharm": {
     "name": "#%% md\n"
    }
   },
   "source": [
    "<h2>자료구조</h2>\n",
    "<h3>Counter 의 활용 </h3>"
   ]
  },
  {
   "cell_type": "markdown",
   "source": [
    "<h3>단어 개수 세기</h3>"
   ],
   "metadata": {
    "collapsed": false,
    "pycharm": {
     "name": "#%% md\n"
    }
   }
  },
  {
   "cell_type": "code",
   "execution_count": 3,
   "outputs": [
    {
     "name": "stdout",
     "output_type": "stream",
     "text": [
      "Counter({'버피': 3, '에인절': 2, '몬스터': 2, '잰더': 1, '우러로': 1, '슈퍼': 1})\n",
      "dict_items([('버피', 3), ('에인절', 2), ('몬스터', 2), ('잰더', 1), ('우러로', 1), ('슈퍼', 1)])\n"
     ]
    }
   ],
   "source": [
    "from collections import Counter\n",
    "\n",
    "sent = '버피 에인절 몬스터 잰더 우러로 버피 몬스터 슈퍼 버피 에인절'\n",
    "\n",
    "dicts =  Counter(sent.split())\n",
    "print(dicts)"
   ],
   "metadata": {
    "collapsed": false,
    "pycharm": {
     "name": "#%%\n"
    }
   }
  },
  {
   "cell_type": "markdown",
   "source": [
    "<h3>애너그램</h3>\n",
    "글자 요소 구성이 같은 두 글자."
   ],
   "metadata": {
    "collapsed": false,
    "pycharm": {
     "name": "#%% md\n"
    }
   }
  },
  {
   "cell_type": "code",
   "execution_count": 8,
   "outputs": [
    {
     "name": "stdout",
     "output_type": "stream",
     "text": [
      "Counter({'a': 2, 'm': 1, 'r': 1, 'i': 1, 'n': 1})\n"
     ]
    },
    {
     "data": {
      "text/plain": "True"
     },
     "execution_count": 8,
     "metadata": {},
     "output_type": "execute_result"
    }
   ],
   "source": [
    "from collections import Counter\n",
    "\n",
    "s1 = 'marina'\n",
    "s2 = 'aniram'\n",
    "\n",
    "def is_anagram(s1, s2):\n",
    "\n",
    "    s1_dict = Counter(s1)\n",
    "    s2_dict = Counter(s2)\n",
    "    print(s1_dict)\n",
    "\n",
    "    for s1_key in s1_dict.keys():\n",
    "        if s2_dict[s1_key] == s1_dict[s1_key]:\n",
    "            s2_dict.pop(s1_key)\n",
    "\n",
    "    if len(s2_dict.keys()):\n",
    "        return False\n",
    "    return True\n",
    "\n",
    "is_anagram(s1, s2)\n"
   ],
   "metadata": {
    "collapsed": false,
    "pycharm": {
     "name": "#%%\n"
    }
   }
  },
  {
   "cell_type": "markdown",
   "source": [
    "<h3>Couter를 활용한 주사위 합산 수 경우의 수</h3>\n",
    "주사위를 2번 굴렸을때 합이 특정 수 일 확률 (N = 5)"
   ],
   "metadata": {
    "collapsed": false,
    "pycharm": {
     "name": "#%% md\n"
    }
   }
  },
  {
   "cell_type": "code",
   "execution_count": 12,
   "outputs": [
    {
     "name": "stdout",
     "output_type": "stream",
     "text": [
      "(5, [[1, 4], [2, 3], [3, 2], [4, 1]])\n"
     ]
    }
   ],
   "source": [
    "from collections import Counter\n",
    "from collections import defaultdict\n",
    "\n",
    "N = 5\n",
    "\n",
    "def check_probability(number):\n",
    "\n",
    "    count = Counter()\n",
    "    element =defaultdict(list)\n",
    "\n",
    "    for i in range(1, 7): # dice number.\n",
    "        for j in range(1, 7):\n",
    "            count[i+j] = i+j\n",
    "            element[i+j].append([i , j]) # 처음 이후로는 이어서 추가.and\n",
    "\n",
    "    return count[number], element[number]\n",
    "\n",
    "print(check_probability(N))\n",
    "\n",
    "\n"
   ],
   "metadata": {
    "collapsed": false,
    "pycharm": {
     "name": "#%%\n"
    }
   }
  },
  {
   "cell_type": "markdown",
   "source": [
    "<h3></h3>\n"
   ],
   "metadata": {
    "collapsed": false,
    "pycharm": {
     "name": "#%% md\n"
    }
   }
  }
 ],
 "metadata": {
  "kernelspec": {
   "display_name": "Python 3",
   "language": "python",
   "name": "python3"
  },
  "language_info": {
   "codemirror_mode": {
    "name": "ipython",
    "version": 2
   },
   "file_extension": ".py",
   "mimetype": "text/x-python",
   "name": "python",
   "nbconvert_exporter": "python",
   "pygments_lexer": "ipython2",
   "version": "2.7.6"
  }
 },
 "nbformat": 4,
 "nbformat_minor": 0
}