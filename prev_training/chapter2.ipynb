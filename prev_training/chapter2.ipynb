{
 "cells": [
  {
   "cell_type": "markdown",
   "metadata": {
    "collapsed": true,
    "pycharm": {
     "name": "#%% md\n"
    }
   },
   "source": [
    "<h3>파이썬 시퀀스 타입</h3>\n",
    "문자열, 튜플, 리스트, 바이트 배열, 바이트 5가지의 내장 시퀀스 타입을 가지고 있음.\n",
    "\n"
   ]
  },
  {
   "cell_type": "markdown",
   "source": [
    "<h3>데이터의 단어 카운트 하기.</h3>"
   ],
   "metadata": {
    "collapsed": false
   }
  },
  {
   "cell_type": "code",
   "execution_count": 8,
   "outputs": [
    {
     "name": "stdout",
     "output_type": "stream",
     "text": [
      "{'안녕하세요': 1, '알고리즘': 1, '테스트를': 1, '간단한': 1, '테스트': 1, '입니다': 1, '한글로': 1, '때문에': 1, '단어가': 1, '요소들': 1, '한,~인': 1, '요소들이': 1, '추가적으로': 1, '있습니다': 1, 'hello': 1, 'this': 2, 'script': 1, 'for': 1, 'algorithm': 1, 'test': 1, 'written': 1, 'english': 1, 'can': 1, 'separated': 1, 'each': 1, 'word': 1, \"don't\": 1, 'worry': 1, 'about': 1, 'sentence': 1}\n"
     ]
    }
   ],
   "source": [
    "import string\n",
    "strip = string.whitespace + string.punctuation + \"\\\"'\"\n",
    "\n",
    "words = {}\n",
    "\n",
    "file_path = \"./test_text\"\n",
    "with open(file_path, encoding ='utf-8') as file:\n",
    "    for line in file:\n",
    "        for raw_word in line.lower().split():\n",
    "            word = raw_word.strip(strip)\n",
    "            if len(word)>2:\n",
    "                words[word] = words.get(word, 0) +1\n",
    "\n",
    "print(words)\n"
   ],
   "metadata": {
    "collapsed": false,
    "pycharm": {
     "name": "#%%\n"
    }
   }
  },
  {
   "cell_type": "markdown",
   "source": [
    "<h3>문자열 반전</h3>"
   ],
   "metadata": {
    "collapsed": false,
    "pycharm": {
     "name": "#%% md\n"
    }
   }
  },
  {
   "cell_type": "code",
   "execution_count": 1,
   "outputs": [
    {
     "name": "stdout",
     "output_type": "stream",
     "text": [
      "!dlrow olleh\n",
      "!dlrow olleh\n"
     ]
    }
   ],
   "source": [
    "def revert(s):\n",
    "    if s: # do if remain char.\n",
    "        s = s[-1] + revert(s[:-1])\n",
    "    return s\n",
    "\n",
    "def revert_v2(s):\n",
    "    return s[::-1]\n",
    "\n",
    "str = \"hello world!\"\n",
    "print(revert(str))\n",
    "print(revert_v2(str))\n"
   ],
   "metadata": {
    "collapsed": false,
    "pycharm": {
     "name": "#%%\n"
    }
   }
  },
  {
   "cell_type": "markdown",
   "source": [
    "<h3>단어 단위 반전</h3>"
   ],
   "metadata": {
    "collapsed": false,
    "pycharm": {
     "name": "#%% md\n"
    }
   }
  },
  {
   "cell_type": "code",
   "execution_count": 11,
   "outputs": [
    {
     "name": "stdout",
     "output_type": "stream",
     "text": [
      "jonghyeok! is name my ,hello\n"
     ]
    }
   ],
   "source": [
    "def revert(s, s_from = 0 ,s_to =None):\n",
    "    if len(s) < 2:\n",
    "        return s\n",
    "    else:\n",
    "        s_to = s_to or len(s)\n",
    "        s_revert = s[s_from:s_to]\n",
    "\n",
    "        s = s[:s_from] + s_revert[::-1] + s[s_to:]\n",
    "        return s\n",
    "\n",
    "str = 'hello, my name is jonghyeok!'\n",
    "\n",
    "# first reverse.\n",
    "str = str[::-1]\n",
    "\n",
    "start = 0\n",
    "\n",
    "for idx, i in enumerate(str):\n",
    "    if i == u'\\u0020':\n",
    "        str = revert(str, start, idx)\n",
    "        start = idx+1\n",
    "\n",
    "str = revert(str, s_from=start+1, s_to=len(str))\n",
    "print(str)\n"
   ],
   "metadata": {
    "collapsed": false,
    "pycharm": {
     "name": "#%%\n"
    }
   }
  },
  {
   "cell_type": "code",
   "execution_count": 12,
   "outputs": [
    {
     "name": "stdout",
     "output_type": "stream",
     "text": [
      "jonghyeok! is name my hello,\n"
     ]
    }
   ],
   "source": [
    "str = 'hello, my name is jonghyeok!'\n",
    "\n",
    "strs = str.split()\n",
    "print(\" \".join(strs[::-1]))\n"
   ],
   "metadata": {
    "collapsed": false,
    "pycharm": {
     "name": "#%%\n"
    }
   }
  },
  {
   "cell_type": "markdown",
   "source": [
    "<h3>문자열 순열</h3>\n",
    "입력으로 들어오는 길이 n개중 n개의 문자를 모두 선택하는 경우의 수.\n",
    "\n",
    "한번더 체크!"
   ],
   "metadata": {
    "collapsed": false,
    "pycharm": {
     "name": "#%% md\n"
    }
   }
  },
  {
   "cell_type": "code",
   "execution_count": 13,
   "outputs": [
    {
     "name": "stdout",
     "output_type": "stream",
     "text": [
      "['012', '021', '102', '120', '201', '210']\n"
     ]
    }
   ],
   "source": [
    "def perm(s):\n",
    "    if len(s)< 2:\n",
    "        return s\n",
    "    else:\n",
    "        res = []\n",
    "        for i, c in enumerate(s):\n",
    "            for cc in perm(s[:i] + s[i+1:]):\n",
    "                res.append(c+ cc)\n",
    "    return res\n",
    "\n",
    "print(perm('012'))"
   ],
   "metadata": {
    "collapsed": false,
    "pycharm": {
     "name": "#%%\n"
    }
   }
  },
  {
   "cell_type": "code",
   "execution_count": 15,
   "outputs": [
    {
     "name": "stdout",
     "output_type": "stream",
     "text": [
      "['0', '01', '012', '02', '021', '1', '10', '102', '12', '120', '2', '20', '201', '21', '210']\n"
     ]
    }
   ],
   "source": [
    "def comb(s):\n",
    "    if len(s)<2:\n",
    "        return s\n",
    "\n",
    "    res = []\n",
    "    for i, c in enumerate(s):\n",
    "        res.append(c)\n",
    "        for cc in comb(s[:i] + s[i+1:]):\n",
    "            res.append(c + cc)\n",
    "\n",
    "    return res\n",
    "\n",
    "print(comb('012'))"
   ],
   "metadata": {
    "collapsed": false,
    "pycharm": {
     "name": "#%%\n"
    }
   }
  },
  {
   "cell_type": "markdown",
   "source": [
    "<h3>회문 체크</h3>"
   ],
   "metadata": {
    "collapsed": false,
    "pycharm": {
     "name": "#%% md\n"
    }
   }
  },
  {
   "cell_type": "code",
   "execution_count": 18,
   "outputs": [
    {
     "name": "stdout",
     "output_type": "stream",
     "text": [
      "True\n"
     ]
    }
   ],
   "source": [
    "def is_palimdrome(s):\n",
    "    s = s.replace(\" \", \"\")\n",
    "\n",
    "    return  s == s[::-1]\n",
    "\n",
    "print(is_palimdrome('다시 합창합시다'))\n",
    "\n",
    "\n",
    "\n"
   ],
   "metadata": {
    "collapsed": false,
    "pycharm": {
     "name": "#%%\n"
    }
   }
  }
 ],
 "metadata": {
  "kernelspec": {
   "display_name": "Python 3",
   "language": "python",
   "name": "python3"
  },
  "language_info": {
   "codemirror_mode": {
    "name": "ipython",
    "version": 2
   },
   "file_extension": ".py",
   "mimetype": "text/x-python",
   "name": "python",
   "nbconvert_exporter": "python",
   "pygments_lexer": "ipython2",
   "version": "2.7.6"
  }
 },
 "nbformat": 4,
 "nbformat_minor": 0
}