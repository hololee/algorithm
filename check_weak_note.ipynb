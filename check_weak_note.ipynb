{
 "cells": [
  {
   "cell_type": "code",
   "execution_count": 1,
   "metadata": {
    "collapsed": true
   },
   "outputs": [
    {
     "name": "stdout",
     "output_type": "stream",
     "text": [
      "weak 사이의 거리 list : [2, 1, 5, 1, 3]\n",
      "1 번째 조합 : 1개의 dist 가 큰수부터 모두 만족을 시켜야함.\n",
      "모든 slice 지점의 조합 : [(0, 1), (0, 2), (0, 3), (0, 4), (1, 2), (1, 3), (1, 4), (2, 3), (2, 4), (3, 4)]\n",
      "\r\n",
      "==========잘린 거리 리스트==========\n",
      "[[10, 2], [9, 3], [8, 4], [9, 3], [9, 1], [6, 4], [7, 3], [5, 4], [6, 3], [3, 1]]\n",
      "====================================\r\n",
      "\n",
      "2 번째 조합 : 2개의 dist 가 큰수부터 모두 만족을 시켜야함.\n",
      "모든 slice 지점의 조합 : [(0, 1, 2), (0, 1, 3), (0, 1, 4), (0, 2, 3), (0, 2, 4), (0, 3, 4), (1, 2, 3), (1, 2, 4), (1, 3, 4), (2, 3, 4)]\n",
      "\r\n",
      "==========잘린 거리 리스트==========\n",
      "[[9, 2, 1], [6, 4, 2], [7, 3, 2], [5, 4, 3], [6, 3, 3], [8, 3, 1], [5, 4, 1], [6, 3, 1], [6, 3, 1], [5, 3, 1]]\n",
      "====================================\r\n",
      "\n",
      "3 번째 조합 : 3개의 dist 가 큰수부터 모두 만족을 시켜야함.\n",
      "모든 slice 지점의 조합 : [(0, 1, 2, 3), (0, 1, 2, 4), (0, 1, 3, 4), (0, 2, 3, 4), (1, 2, 3, 4)]\n",
      "\r\n",
      "==========잘린 거리 리스트==========\n",
      "[[5, 4, 2, 1], [6, 3, 2, 1], [6, 3, 2, 1], [5, 3, 3, 1], [5, 3, 1, 1]]\n",
      "====================================\r\n",
      "\n"
     ]
    }
   ],
   "source": [
    "from itertools import combinations\n",
    "\n",
    "n = 12\n",
    "weak = [1, 3, 4, 9, 10]\n",
    "dist = [3, 5, 7]\n",
    "\n",
    "\n",
    "def list_split(list, indexs):  # 가능한 조합에서  각 항목들의 합을 계산! => 나누어진 루트의 총 길이들.\n",
    "    temp = []\n",
    "    for idx, index_num in enumerate(indexs):\n",
    "        try:\n",
    "            temp.append(sum(list[index_num: indexs[idx + 1]]))\n",
    "        except:\n",
    "            temp.append(sum(list[index_num:]))\n",
    "\n",
    "    return temp\n",
    "\n",
    "\n",
    "def cal_step_weaks(weaks):\n",
    "    step = []\n",
    "    for idx_wall, wall in enumerate(weaks):\n",
    "        if idx_wall == len(weaks) - 1:\n",
    "            step.append(n - wall + weaks[0])\n",
    "        else:\n",
    "            step.append(weaks[idx_wall + 1] - wall)\n",
    "\n",
    "    return step\n",
    "\n",
    "\n",
    "steps = cal_step_weaks(weaks=weak)\n",
    "print(f\"weak 사이의 거리 list : {steps!r}\")\n",
    "\n",
    "for i in range(len(dist)):\n",
    "    print(f\"{i + 1!r} 번째 조합 : {i + 1!r}개의 dist 가 큰수부터 모두 만족을 시켜야함.\")\n",
    "\n",
    "    list_combination = list(combinations(list(range(len(steps))), i + 2))\n",
    "    print(f\"모든 slice 지점의 조합 : {list_combination!r}\")\n",
    "\n",
    "    searching_field = []  # 모든 가능한 조합을 보관.\n",
    "\n",
    "    print(\"\\r\\n==========잘린 거리 리스트==========\")\n",
    "    for j in list_combination:\n",
    "        splited = list_split(list=steps, indexs=j)\n",
    "\n",
    "        # 큰 거리부터 정렬.\n",
    "        splited.sort()\n",
    "        splited.reverse()\n",
    "\n",
    "        searching_field.append(splited)\n",
    "    print(searching_field)\n",
    "    print(\"====================================\\r\\n\")\n",
    "\n",
    "    \"\"\" searching_field 에서 2가지 조함부터 체크해서 answer 1씩 늘리기.\n",
    "        마지막 반복에서 만약 큰 순서대로 len(dist) 의 조건을 만족시키지 못하면 -1 리턴\n",
    "    \"\"\"\n"
   ]
  }
 ],
 "metadata": {
  "kernelspec": {
   "display_name": "Python 3",
   "language": "python",
   "name": "python3"
  },
  "language_info": {
   "codemirror_mode": {
    "name": "ipython",
    "version": 2
   },
   "file_extension": ".py",
   "mimetype": "text/x-python",
   "name": "python",
   "nbconvert_exporter": "python",
   "pygments_lexer": "ipython2",
   "version": "2.7.6"
  }
 },
 "nbformat": 4,
 "nbformat_minor": 0
}