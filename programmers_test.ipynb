{
 "cells": [
  {
   "cell_type": "markdown",
   "source": [
    "<h2>외벽 점검</h2>"
   ],
   "metadata": {
    "collapsed": false,
    "pycharm": {
     "name": "#%% md\n"
    }
   }
  },
  {
   "cell_type": "code",
   "execution_count": 1,
   "metadata": {
    "collapsed": true,
    "pycharm": {
     "name": "#%%\n"
    }
   },
   "outputs": [
    {
     "name": "stdout",
     "output_type": "stream",
     "text": [
      "2\n"
     ]
    }
   ],
   "source": [
    "from itertools import combinations, permutations\n",
    "\n",
    "# n = 12\n",
    "# weak = [1, 3, 4, 9, 10]\n",
    "# dist = [3, 5, 7]\n",
    "n = 12\n",
    "weak = [1, 5, 6, 10]\n",
    "dist = [1, 2, 3, 4]\n",
    "\n",
    "\n",
    "def solution(n, weak, dist):\n",
    "    # 시계 생각! 12+1 = 13\n",
    "    def shift_start(weak_origin, idx_start, max_length):\n",
    "        assert 0 <= idx_start < len(weak_origin), \"index 값이 범위를 벗어남!\"\n",
    "        shifted = weak_origin[idx_start:] + [(item + max_length) for item in weak_origin[:idx_start]]\n",
    "        return shifted\n",
    "\n",
    "    all_dists_permut = list(permutations(dist))\n",
    "\n",
    "    remained_positions_list = [[shift_start(weak, weak_start, n) for weak_start in range(0, len(weak))] for j in\n",
    "                               all_dists_permut]\n",
    "\n",
    "    answers = []\n",
    "\n",
    "    for idx_dist_list, permut_dist in enumerate(permutations(dist)):\n",
    "        #TODO:print(f\"현재 진행중인 친구들 : {permut_dist!r}\")\n",
    "\n",
    "        is_answer_filled = False\n",
    "\n",
    "        for idx_permut, item_permut in enumerate(permut_dist):\n",
    "            if not is_answer_filled:\n",
    "                # 시작점이 다른 모든 경우의 수\n",
    "                # if i == permut_dist[0]:  # 두번째 부터는 기존 남아있는 위치들을 그대로 이용한다.\n",
    "\n",
    "                # print(f\"{idx_permut!r}번째 친구 도전중..\")\n",
    "\n",
    "                # for 문으로 돌아가는 변수를 중간에 변경해도 진행중인 for문의 item은 영향이 없음을 확인.. for문이 끝날때 변수 값이 변함.\n",
    "                for idx_rp, remained_positions in enumerate(remained_positions_list[idx_dist_list]):\n",
    "                    if not is_answer_filled:\n",
    "                        #TODO:print(f\"{idx_dist_list!r}집합의 {idx_permut!r}번째 친구가 {idx_rp!r}번째 기준점 도전중..\")\n",
    "                        '''\n",
    "                        [->[1,5,6,10], [5,6,10,13], [6,10,13,17], [10,13,17,18]]\n",
    "                        [[1,5,6,10], ->[5,6,10,13], [6,10,13,17], [10,13,17,18]]\n",
    "                        [[1,5,6,10], [5,6,10,13], ->[6,10,13,17], [10,13,17,18]]\n",
    "                        [[1,5,6,10], [5,6,10,13], [6,10,13,17], ->[10,13,17,18]]\n",
    "\n",
    "                        반복이 끝나면.\n",
    "                        [[6,10], [10,13], [13,17], [17,18]]\n",
    "\n",
    "                        '''\n",
    "\n",
    "                        # 해당 차례의 친구가 이동한 최종 거리.\n",
    "                        friend_target_position = remained_positions[0] + item_permut\n",
    "                        # 남아 있는 목표의 첫번째 값이 처음 이동한 친구의 값보다 작아지기 전까지\n",
    "                        if not is_answer_filled:\n",
    "                            while remained_positions[0] <= friend_target_position:\n",
    "                                # 남아있는 위치를 지운다.\n",
    "                                del remained_positions[0]\n",
    "\n",
    "                                #TODO:print(remained_positions)\n",
    "                                # 남아 있는 수가 없을때 (합이 0일때) 현재 사용된 인원수를 반환.\n",
    "                                if sum(remained_positions) == 0:\n",
    "                                    answers.append(idx_permut + 1)\n",
    "                                    is_answer_filled = True\n",
    "                                    break\n",
    "\n",
    "                        #TODO:print(remained_positions_list)\n",
    "\n",
    "    # 모든 친구를 써도 weak 이 남아 있는겨우.\n",
    "    if sum(answers) == 0:\n",
    "        return -1\n",
    "    else:\n",
    "        return min(answers)\n",
    "\n",
    "\n",
    "print(solution(n, weak, dist))"
   ]
  },
  {
   "cell_type": "markdown",
   "source": [
    "<h2>크레인 인형뽑기 게임</h2>"
   ],
   "metadata": {
    "collapsed": false
   }
  },
  {
   "cell_type": "code",
   "execution_count": 13,
   "outputs": [
    {
     "data": {
      "text/plain": "4"
     },
     "execution_count": 13,
     "metadata": {},
     "output_type": "execute_result"
    }
   ],
   "source": [
    "board = [[0,0,0,0,0],[0,0,1,0,3],[0,2,5,0,1],[4,2,4,4,2],[3,5,1,3,1]]\n",
    "moves = [1,5,3,5,1,2,1,4]\n",
    "\n",
    "def solution(board, moves):\n",
    "    board = [list(item)for item in zip(*board)]\n",
    "\n",
    "    answer =0\n",
    "\n",
    "    def pickup(line):\n",
    "        for idx, item in enumerate(line):\n",
    "            if item > 0:\n",
    "                if idx ==0:\n",
    "                    line[idx] = 0\n",
    "                    return line, item\n",
    "                else:\n",
    "                    item = line[idx]\n",
    "                    line[idx] = 0\n",
    "                    return line, item\n",
    "\n",
    "    bucket = []\n",
    "\n",
    "    # index 형으로 변경.\n",
    "    moves = [i -1 for i in moves]\n",
    "\n",
    "    for pos in moves:\n",
    "        if board[pos][-1] > 0: # 비었는지 체크.\n",
    "            line, item = pickup(board[pos])\n",
    "            board[pos] = line\n",
    "            bucket.append(item)\n",
    "\n",
    "            # 마지막 2개가 같은지 체크.\n",
    "            if len(bucket) >= 2 and bucket[-2] == bucket[-1]:\n",
    "                del bucket[-2:]\n",
    "                answer+=2\n",
    "\n",
    "    return answer\n",
    "\n",
    "solution(board, moves)"
   ],
   "metadata": {
    "collapsed": false,
    "pycharm": {
     "name": "#%%\n"
    }
   }
  },
  {
   "cell_type": "markdown",
   "source": [
    "<h3>모의고사</h3>"
   ],
   "metadata": {
    "collapsed": false,
    "pycharm": {
     "name": "#%% md\n"
    }
   }
  },
  {
   "cell_type": "code",
   "execution_count": 31,
   "outputs": [
    {
     "data": {
      "text/plain": "[1]"
     },
     "execution_count": 31,
     "metadata": {},
     "output_type": "execute_result"
    }
   ],
   "source": [
    "answers = [1,2,3,4,5]\n",
    "\n",
    "def solution(answers):\n",
    "\n",
    "    def get_p_answer(rotate):\n",
    "\n",
    "        array1 = [1, 2, 3, 4, 5]\n",
    "        array2 = [2, 1, 2, 3, 2, 4, 2, 5]\n",
    "        array3 = [3, 3, 1, 1, 2, 2, 4, 4, 5, 5]\n",
    "\n",
    "        answer = [0,0,0]\n",
    "\n",
    "        answer[0] = (array1[rotate%(len(array1))])\n",
    "        answer[1] = (array2[rotate%(len(array2))])\n",
    "        answer[2] = (array3[rotate%(len(array3))])\n",
    "\n",
    "        return answer\n",
    "\n",
    "    answer_count = [0,0,0]\n",
    "\n",
    "\n",
    "    for idx, answer in enumerate(answers):\n",
    "        for idy, p_answer in enumerate(get_p_answer(idx)):\n",
    "            if answer == p_answer:\n",
    "                answer_count[idy]+=1\n",
    "\n",
    "\n",
    "    ordered = sorted(range(len(answer_count)), key = lambda k:answer_count[k])\n",
    "    ordered.reverse()\n",
    "\n",
    "    max_list = []\n",
    "    max = 0\n",
    "    for i in ordered:\n",
    "        if answer_count[i] >= max:\n",
    "            max = answer_count[i]\n",
    "            max_list.append(i+1)\n",
    "\n",
    "    max_list.reverse()\n",
    "    return max_list\n",
    "\n",
    "solution(answers)"
   ],
   "metadata": {
    "collapsed": false,
    "pycharm": {
     "name": "#%%\n"
    }
   }
  }
 ],
 "metadata": {
  "kernelspec": {
   "display_name": "Python 3",
   "language": "python",
   "name": "python3"
  },
  "language_info": {
   "codemirror_mode": {
    "name": "ipython",
    "version": 2
   },
   "file_extension": ".py",
   "mimetype": "text/x-python",
   "name": "python",
   "nbconvert_exporter": "python",
   "pygments_lexer": "ipython2",
   "version": "2.7.6"
  }
 },
 "nbformat": 4,
 "nbformat_minor": 0
}