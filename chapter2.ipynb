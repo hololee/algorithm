{
 "cells": [
  {
   "cell_type": "markdown",
   "metadata": {
    "collapsed": true,
    "pycharm": {
     "name": "#%% md\n"
    }
   },
   "source": [
    "<h3>파이썬 시퀀스 타입</h3>\n",
    "문자열, 튜플, 리스트, 바이트 배열, 바이트 5가지의 내장 시퀀스 타입을 가지고 있음.\n",
    "\n"
   ]
  },
  {
   "cell_type": "markdown",
   "source": [
    "<h3>데이터의 단어 카운트 하기.</h3>"
   ],
   "metadata": {
    "collapsed": false
   }
  },
  {
   "cell_type": "code",
   "execution_count": 8,
   "outputs": [
    {
     "name": "stdout",
     "output_type": "stream",
     "text": [
      "{'안녕하세요': 1, '알고리즘': 1, '테스트를': 1, '간단한': 1, '테스트': 1, '입니다': 1, '한글로': 1, '때문에': 1, '단어가': 1, '요소들': 1, '한,~인': 1, '요소들이': 1, '추가적으로': 1, '있습니다': 1, 'hello': 1, 'this': 2, 'script': 1, 'for': 1, 'algorithm': 1, 'test': 1, 'written': 1, 'english': 1, 'can': 1, 'separated': 1, 'each': 1, 'word': 1, \"don't\": 1, 'worry': 1, 'about': 1, 'sentence': 1}\n"
     ]
    }
   ],
   "source": [
    "import string\n",
    "strip = string.whitespace + string.punctuation + \"\\\"'\"\n",
    "\n",
    "words = {}\n",
    "\n",
    "file_path = \"./test_text\"\n",
    "with open(file_path, encoding ='utf-8') as file:\n",
    "    for line in file:\n",
    "        for raw_word in line.lower().split():\n",
    "            word = raw_word.strip(strip)\n",
    "            if len(word)>2:\n",
    "                words[word] = words.get(word, 0) +1\n",
    "\n",
    "print(words)\n"
   ],
   "metadata": {
    "collapsed": false,
    "pycharm": {
     "name": "#%%\n"
    }
   }
  },
  {
   "cell_type": "markdown",
   "source": [],
   "metadata": {
    "collapsed": false,
    "pycharm": {
     "name": "#%% md\n"
    }
   }
  }
 ],
 "metadata": {
  "kernelspec": {
   "display_name": "Python 3",
   "language": "python",
   "name": "python3"
  },
  "language_info": {
   "codemirror_mode": {
    "name": "ipython",
    "version": 2
   },
   "file_extension": ".py",
   "mimetype": "text/x-python",
   "name": "python",
   "nbconvert_exporter": "python",
   "pygments_lexer": "ipython2",
   "version": "2.7.6"
  }
 },
 "nbformat": 4,
 "nbformat_minor": 0
}