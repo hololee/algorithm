{
 "cells": [
  {
   "cell_type": "markdown",
   "source": [
    "<h3>진법 변환.</h3>"
   ],
   "metadata": {
    "collapsed": false
   }
  },
  {
   "cell_type": "code",
   "execution_count": 18,
   "metadata": {
    "collapsed": true
   },
   "outputs": [],
   "source": [
    "def convert_2_decimal(number, base):\n",
    "    assert 2 <= base <= 10, \"base should be in 2 and 10\"\n",
    "\n",
    "    position_val, temp_decimal = 1, 0\n",
    "\n",
    "    while number > 0:\n",
    "        remain = number % 10\n",
    "        number = number // 10\n",
    "\n",
    "        temp_decimal += remain * position_val\n",
    "        position_val *= base\n",
    "\n",
    "    return temp_decimal\n"
   ]
  },
  {
   "cell_type": "code",
   "execution_count": 19,
   "outputs": [],
   "source": [
    "# base 진수로 변환.\n",
    "def convert_from_decimal(number, base):\n",
    "    assert 2 <= base <= 10, \"base should be in 2 and 10\"\n",
    "\n",
    "    position_val = 1\n",
    "    temp_val = 0\n",
    "\n",
    "    while number > 0:\n",
    "        remain = number % base\n",
    "        number = number // base\n",
    "\n",
    "        temp_val += remain * position_val\n",
    "        position_val *= 10\n",
    "\n",
    "    return temp_val"
   ],
   "metadata": {
    "collapsed": false,
    "pycharm": {
     "name": "#%%\n"
    }
   }
  },
  {
   "cell_type": "code",
   "execution_count": 20,
   "outputs": [],
   "source": [
    "def convert_to_decimal_expand(number, base):\n",
    "    assert 2 <= base <= 16, \"base should be in 2 and 16\"\n",
    "\n",
    "    number = str(number)\n",
    "    number_index = \"0123456789ABCDEF\"\n",
    "\n",
    "    temp_val = 0\n",
    "\n",
    "    for idx in range(len(number)):\n",
    "        print(\"target : {}\".format(number[-(idx + 1)]))\n",
    "        temp_val += number_index.index(number[-(idx + 1)]) * (16 ** idx)\n",
    "\n",
    "    return temp_val"
   ],
   "metadata": {
    "collapsed": false,
    "pycharm": {
     "name": "#%%\n"
    }
   }
  },
  {
   "cell_type": "markdown",
   "source": [
    "<h3>최대 공약수(GCD)</h3>\n",
    "유클리드 호재법을 이용한 최대공약수 구하기."
   ],
   "metadata": {
    "collapsed": false,
    "pycharm": {
     "name": "#%% md\n"
    }
   }
  },
  {
   "cell_type": "code",
   "execution_count": 21,
   "outputs": [
    {
     "name": "stdout",
     "output_type": "stream",
     "text": [
      "6\n"
     ]
    }
   ],
   "source": [
    "def finding_gcd(a, b):\n",
    "    while b != 0:\n",
    "        result = b\n",
    "        a, b, = b, a%b # a 를 b로 나눈 나머지로 a를 계속 나눔.\n",
    "\n",
    "    return result\n",
    "\n",
    "\n",
    "### test ###\n",
    "\n",
    "number1 = 24\n",
    "number2 = 18\n",
    "\n",
    "print(finding_gcd(24, 18))\n"
   ],
   "metadata": {
    "collapsed": false,
    "pycharm": {
     "name": "#%%\n"
    }
   }
  },
  {
   "cell_type": "markdown",
   "source": [
    "<h3>random 모듈 이용하기 </h3>\n",
    "하나를 뽑을때 choice는 값이, sample은 list로 반환."
   ],
   "metadata": {
    "collapsed": false,
    "pycharm": {
     "name": "#%% md\n"
    }
   }
  },
  {
   "cell_type": "code",
   "execution_count": 22,
   "outputs": [
    {
     "name": "stdout",
     "output_type": "stream",
     "text": [
      "1\n",
      "[0]\n",
      "[2, 1, 3, 0, 4]\n",
      "2\n"
     ]
    }
   ],
   "source": [
    "import random\n",
    "\n",
    "values = list(range(5))\n",
    "m1 = random.choice(values)\n",
    "print(m1)\n",
    "\n",
    "m2 = random.sample(values, 1)\n",
    "print(m2)\n",
    "\n",
    "random.shuffle(values)\n",
    "print(values)\n",
    "\n",
    "\n",
    "m4 = random.randint(0,10)\n",
    "print(m4)\n"
   ],
   "metadata": {
    "collapsed": false,
    "pycharm": {
     "name": "#%%\n"
    }
   }
  },
  {
   "cell_type": "markdown",
   "source": [
    "<h3>피보나치 수열</h3>\n",
    "\n",
    "`1 1 2 3 5 8 13 21 .....` 와 같이 다음수가 전 두 수의 합으로 이루어진 수열."
   ],
   "metadata": {
    "collapsed": false,
    "pycharm": {
     "name": "#%% md\n"
    }
   }
  },
  {
   "cell_type": "code",
   "execution_count": 23,
   "outputs": [],
   "source": [
    "#for문\n",
    "def find_fibonacci_seq_iter(n):\n",
    "    if n< 2 : return n\n",
    "    a, b = 0, 1\n",
    "    for i in range(n):\n",
    "        a, b = b, a+b\n",
    "    # n번째는 앞의 수. # n , n+1 자리\n",
    "    return a\n",
    "\n",
    "# 재귀.\n",
    "def find_fibonacci_seq_rec(n):\n",
    "    if n<2 : return n\n",
    "    return find_fibonacci_seq_rec(n-1) + find_fibonacci_seq_rec(n-2)\n",
    "\n",
    "#피보나치 수열 계산 수식.\n",
    "# 70번째 이하 일때만 계산값이 보장된다.  # 수식 찾아볼것.\n",
    "import math\n",
    "def find_fibonacci_seq_form(n):\n",
    "     sq5 = math.sqrt(5)\n",
    "     phi = (1+ sq5) + 2\n",
    "\n",
    "     return int(math.floor(phi ** n / sq5))\n",
    "\n",
    "\n",
    "##TODO: generator 를 활용한 방법\n"
   ],
   "metadata": {
    "collapsed": false,
    "pycharm": {
     "name": "#%%\n"
    }
   }
  },
  {
   "cell_type": "markdown",
   "source": [
    "<h3>소수</h3>\n",
    "약수로 1과 자기 자신만을 가지는 수."
   ],
   "metadata": {
    "collapsed": false,
    "pycharm": {
     "name": "#%% md\n"
    }
   }
  },
  {
   "cell_type": "code",
   "execution_count": 24,
   "outputs": [],
   "source": [
    "# 브루트 포스 (무차별 대입, 가능한 모든 경우의 수를 계산.)\n",
    "def finding_prime(number):\n",
    "     if number <4:\n",
    "         return True\n",
    "     for i in range(2, number):\n",
    "         if number%i == 0: return False\n",
    "         else: return True\n",
    "\n",
    "# 제곱근 이용.\n",
    "# 제곱근을 기준점으로 두어 소수가 아닌 수가 발생가능한 상황을 만듬\n",
    "\"\"\"\n",
    "N이 소수가 아닐때,\n",
    "N = M * M = a * b 이면\n",
    "1) a> M, b<M\n",
    "2) a=M, b=M\n",
    "3) b>M, a<M\n",
    "3가지 상황중 하나가 발생한다.\n",
    "\n",
    "따라서 M까지 탐색하며 N을 탐색한 수로 나누었을때 나누어지지 않는다면 N은 소수!\n",
    "\"\"\"\n",
    "import math\n",
    "\n",
    "def finding_prime_sqrt(number):\n",
    "    if number<4 :\n",
    "        return True\n",
    "    for i in range(2, int(math.sqrt(number))+1): # 정수형이 아닐때 정수로 변환후 1의 여유를 준다.\n",
    "        if number%number ==0: return False\n",
    "        else: return True\n",
    "\n",
    "\n",
    "## TODO:확률론 + 페르마의 소정리! 꼭 해볼것."
   ],
   "metadata": {
    "collapsed": false,
    "pycharm": {
     "name": "#%%\n"
    }
   }
  },
  {
   "cell_type": "markdown",
   "source": [
    "<h3>넘파이 패키지</h3>\n",
    "익숙하므로 패스(혹시모르니 한번씩 봐줄것, arange 가 range보다 효율적)\n",
    "\n",
    " `numpy 패키지가 내부적으로 C 기반으로 돌린다고 알고 있음.`\n",
    "\n",
    "아래 수식을 좀 살펴봐라!!!!"
   ],
   "metadata": {
    "collapsed": false,
    "pycharm": {
     "name": "#%% md\n"
    }
   }
  },
  {
   "cell_type": "code",
   "execution_count": 25,
   "outputs": [
    {
     "name": "stdout",
     "output_type": "stream",
     "text": [
      "3.471740245819092\n",
      "14.48395848274231\n"
     ]
    },
    {
     "name": "stderr",
     "output_type": "stream",
     "text": [
      "c:\\users\\default.desktop-dbp44q5\\anaconda3\\envs\\jh_env\\lib\\site-packages\\ipykernel_launcher.py:13: RuntimeWarning: overflow encountered in long_scalars\n",
      "  del sys.path[0]\n"
     ]
    }
   ],
   "source": [
    "import time\n",
    "import numpy as np\n",
    "def time_test():\n",
    "    t1 = time.time()\n",
    "    temp1 = 0\n",
    "    for i in range(100000000):\n",
    "        temp1 += i\n",
    "    print(time.time() - t1)\n",
    "\n",
    "    t2 = time.time()\n",
    "    temp2 = 0\n",
    "    for i in np.arange(100000000):\n",
    "        temp2 += i\n",
    "    print(time.time() - t2)\n",
    "\n",
    "time_test()"
   ],
   "metadata": {
    "collapsed": false,
    "pycharm": {
     "name": "#%%\n"
    }
   }
  },
  {
   "cell_type": "markdown",
   "source": [],
   "metadata": {
    "collapsed": false,
    "pycharm": {
     "name": "#%% md\n"
    }
   }
  }
 ],
 "metadata": {
  "kernelspec": {
   "display_name": "Python 3",
   "language": "python",
   "name": "python3"
  },
  "language_info": {
   "codemirror_mode": {
    "name": "ipython",
    "version": 2
   },
   "file_extension": ".py",
   "mimetype": "text/x-python",
   "name": "python",
   "nbconvert_exporter": "python",
   "pygments_lexer": "ipython2",
   "version": "2.7.6"
  }
 },
 "nbformat": 4,
 "nbformat_minor": 0
}